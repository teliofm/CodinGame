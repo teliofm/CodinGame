{
 "cells": [
  {
   "cell_type": "code",
   "execution_count": 2,
   "metadata": {},
   "outputs": [
    {
     "name": "stdout",
     "output_type": "stream",
     "text": [
      "2\n",
      "VALUE 3 _\n",
      "ADD $0 4\n"
     ]
    }
   ],
   "source": [
    "import sys\n",
    "import math\n",
    "import pandas as pd\n",
    "\n",
    "\n",
    "# Auto-generated code below aims at helping you parse\n",
    "# the standard input according to the problem statement.\n",
    "lst_oper = []\n",
    "lst_arg1 = []\n",
    "lst_arg2 = []\n",
    "n = int(input())\n",
    "for i in range(n):\n",
    "    operation, arg_1, arg_2 = input().split()\n",
    "    lst_oper.append(operation)\n",
    "    arg = [operation,arg_1,arg_2]\n",
    "    lst_arg1.append(arg)\n",
    "    #lst_arg1.append(arg_2)\n",
    "    lst_arg2.append(arg_2)"
   ]
  },
  {
   "cell_type": "code",
   "execution_count": 10,
   "metadata": {},
   "outputs": [
    {
     "data": {
      "text/html": [
       "<div>\n",
       "<style scoped>\n",
       "    .dataframe tbody tr th:only-of-type {\n",
       "        vertical-align: middle;\n",
       "    }\n",
       "\n",
       "    .dataframe tbody tr th {\n",
       "        vertical-align: top;\n",
       "    }\n",
       "\n",
       "    .dataframe thead th {\n",
       "        text-align: right;\n",
       "    }\n",
       "</style>\n",
       "<table border=\"1\" class=\"dataframe\">\n",
       "  <thead>\n",
       "    <tr style=\"text-align: right;\">\n",
       "      <th></th>\n",
       "      <th>0</th>\n",
       "      <th>1</th>\n",
       "      <th>2</th>\n",
       "    </tr>\n",
       "  </thead>\n",
       "  <tbody>\n",
       "    <tr>\n",
       "      <th>0</th>\n",
       "      <td>VALUE</td>\n",
       "      <td>3</td>\n",
       "      <td>_</td>\n",
       "    </tr>\n",
       "    <tr>\n",
       "      <th>1</th>\n",
       "      <td>ADD</td>\n",
       "      <td>$0</td>\n",
       "      <td>4</td>\n",
       "    </tr>\n",
       "  </tbody>\n",
       "</table>\n",
       "</div>"
      ],
      "text/plain": [
       "       0   1  2\n",
       "0  VALUE   3  _\n",
       "1    ADD  $0  4"
      ]
     },
     "execution_count": 10,
     "metadata": {},
     "output_type": "execute_result"
    }
   ],
   "source": [
    "df = pd.DataFrame(lst_arg1)\n",
    "df"
   ]
  },
  {
   "cell_type": "code",
   "execution_count": 15,
   "metadata": {},
   "outputs": [
    {
     "ename": "SyntaxError",
     "evalue": "invalid syntax (<ipython-input-15-e64a34ebd518>, line 35)",
     "output_type": "error",
     "traceback": [
      "\u001b[1;36m  File \u001b[1;32m\"<ipython-input-15-e64a34ebd518>\"\u001b[1;36m, line \u001b[1;32m35\u001b[0m\n\u001b[1;33m    elif df[0][i] != 'SOLVED' and df[1][i][0:0] == '$':\u001b[0m\n\u001b[1;37m       ^\u001b[0m\n\u001b[1;31mSyntaxError\u001b[0m\u001b[1;31m:\u001b[0m invalid syntax\n"
     ]
    }
   ],
   "source": [
    "#print(type(arg_1))\n",
    "#print(lst_oper)\n",
    "\n",
    "\n",
    "k = 0\n",
    "print(lst_arg1)\n",
    "df = pd.DataFrame(lst_arg1)\n",
    "print(df)\n",
    "#print(lst_arg2)\n",
    "print(type(m))\n",
    "while k < len(range(n)):\n",
    "    print(k,len(range(n)))\n",
    "    for i in range(n):\n",
    "        print(df[1][i],df[2][i])\n",
    "        print(df[1][i].isdigit(),df[2][i].isdigit() or df[2][i] == '_')\n",
    "        if df[0][i] != 'SOLVED' and (df[1][i].isdigit() and (df[2][i].isdigit() or df[2][i] == '_')):\n",
    "            print(df[0][i])\n",
    "            if df[0][i] == 'VALUE':\n",
    "                df[1][i] = df[1][i]\n",
    "            elif df[0][i] == 'ADD':\n",
    "                df[1][i] = df[1][i] + df[2][i]\n",
    "            elif df[0][i] == 'SUB':\n",
    "                df[1][i] = df[1][i] - df[2][i]\n",
    "            elif df[0][i] == 'MULT':\n",
    "                df[1][i] = df[1][i] * df[2][i]\n",
    "            df[0][i] = 'SOLVED'\n",
    "            k +=1\n",
    "            print('k = ',k,df[0][i])\n",
    "        print(df[1][0][1:])\n",
    "        print(df[1][1][1:])\n",
    "\n",
    "        print('HERE 0',df[0][i])\n",
    "        print('HERE 1',df[1][i][0])\n",
    "\n",
    "        if df[0][i] != 'SOLVED' and df[1][i][0] == '$':\n",
    "            #Check if and change the values where $ is found COLUMN 1 \n",
    "            if df[0][df[1][i][1:] == 'SOLVED':\n",
    "            print(int(df[1][i][1:]))\n",
    "                    #print(df[1][i][1:])\n",
    "\n",
    "        elif df[0][i] != 'SOLVED' and df[2][i][0] == '$':\n",
    "            #Check if and change the values where $ is found COLUMN 2\n",
    "            if df[0][df[2][i][1:] == 'SOLVED':\n",
    "            print(int(df[2][i][1:]))\n",
    "            #                    df[2][i] = df[1][df[2][i][1:]]  \n",
    "\n",
    "#for i in range(n):\n",
    "    \n",
    "\n",
    "    # Write an action using print\n",
    "    #To debug: print(\"Debug messages...\", file=sys.stderr)\n",
    "    \n",
    "print(df)"
   ]
  },
  {
   "cell_type": "code",
   "execution_count": null,
   "metadata": {},
   "outputs": [],
   "source": []
  },
  {
   "cell_type": "code",
   "execution_count": null,
   "metadata": {},
   "outputs": [],
   "source": []
  }
 ],
 "metadata": {
  "kernelspec": {
   "display_name": "Python 3",
   "language": "python",
   "name": "python3"
  },
  "language_info": {
   "codemirror_mode": {
    "name": "ipython",
    "version": 3
   },
   "file_extension": ".py",
   "mimetype": "text/x-python",
   "name": "python",
   "nbconvert_exporter": "python",
   "pygments_lexer": "ipython3",
   "version": "3.7.3"
  }
 },
 "nbformat": 4,
 "nbformat_minor": 2
}
