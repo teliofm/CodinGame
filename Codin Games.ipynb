{
 "cells": [
  {
   "cell_type": "code",
   "execution_count": 83,
   "metadata": {},
   "outputs": [
    {
     "name": "stdout",
     "output_type": "stream",
     "text": [
      "3\n",
      "VALUE 20 _\n",
      "ADD $0 100\n",
      "ADD $1 1\n"
     ]
    }
   ],
   "source": [
    "import sys\n",
    "import math\n",
    "import numpy\n",
    "import pandas as pd\n",
    "\n",
    "\n",
    "# Auto-generated code below aims at helping you parse\n",
    "# the standard input according to the problem statement.\n",
    "lst_arg = []\n",
    "n = int(input())\n",
    "for i in range(n):\n",
    "    operation, arg_1, arg_2 = input().split()\n",
    "    arg = [operation,arg_1,arg_2]\n",
    "    lst_arg.append(arg)"
   ]
  },
  {
   "cell_type": "code",
   "execution_count": 84,
   "metadata": {},
   "outputs": [
    {
     "name": "stdout",
     "output_type": "stream",
     "text": [
      "       0   1    2\n",
      "0  VALUE  20    _\n",
      "1    ADD  $0  100\n",
      "2    ADD  $1    1\n"
     ]
    }
   ],
   "source": [
    "df = pd.DataFrame(lst_arg)\n",
    "print(df)"
   ]
  },
  {
   "cell_type": "code",
   "execution_count": 93,
   "metadata": {},
   "outputs": [
    {
     "name": "stdout",
     "output_type": "stream",
     "text": [
      "<class 'str'>\n",
      "1\n",
      "        0   1    2\n",
      "0  SOLVED  20    _\n",
      "1     ADD  $0  100\n",
      "2     ADD  $1    1\n",
      "<class 'str'>\n",
      "<class 'str'>\n",
      "<class 'str'>\n",
      "        0   1    2\n",
      "0  SOLVED  20    _\n",
      "1     ADD  20  100\n",
      "2     ADD  $1    1\n",
      "<class 'str'>\n",
      "<class 'str'>\n",
      "<class 'str'>\n",
      "        0   1    2\n",
      "0  SOLVED  20    _\n",
      "1     ADD  20  100\n",
      "2     ADD  $1    1\n",
      "<class 'str'>\n",
      "<class 'str'>\n",
      "<class 'str'>\n",
      "        0   1    2\n",
      "0  SOLVED  20    _\n",
      "1     ADD  20  100\n",
      "2     ADD  $1    1\n",
      "<class 'str'>\n",
      "<class 'str'>\n",
      "<class 'str'>\n",
      "        0    1    2\n",
      "0  SOLVED   20    _\n",
      "1  SOLVED  120  100\n",
      "2     ADD   $1    1\n",
      "<class 'str'>\n",
      "<class 'int'>\n",
      "<class 'str'>\n",
      "        0    1    2\n",
      "0  SOLVED   20    _\n",
      "1  SOLVED  120  100\n",
      "2     ADD  120    1\n",
      "<class 'str'>\n",
      "<class 'int'>\n",
      "<class 'int'>\n",
      "        0    1    2\n",
      "0  SOLVED   20    _\n",
      "1  SOLVED  120  100\n",
      "2     ADD  120    1\n",
      "<class 'str'>\n",
      "<class 'int'>\n",
      "<class 'int'>\n",
      "        0    1    2\n",
      "0  SOLVED   20    _\n",
      "1  SOLVED  120  100\n",
      "2     ADD  120    1\n",
      "<class 'str'>\n",
      "<class 'int'>\n",
      "<class 'int'>\n"
     ]
    },
    {
     "ename": "AttributeError",
     "evalue": "'int' object has no attribute 'isdigit'",
     "output_type": "error",
     "traceback": [
      "\u001b[1;31m---------------------------------------------------------------------------\u001b[0m",
      "\u001b[1;31mAttributeError\u001b[0m                            Traceback (most recent call last)",
      "\u001b[1;32m<ipython-input-93-2fdeffa40812>\u001b[0m in \u001b[0;36m<module>\u001b[1;34m\u001b[0m\n\u001b[0;32m      9\u001b[0m \u001b[1;31m#        print('line = ',i,'is',df[0][i],df[1][i],df[2][i])\u001b[0m\u001b[1;33m\u001b[0m\u001b[1;33m\u001b[0m\u001b[1;33m\u001b[0m\u001b[0m\n\u001b[0;32m     10\u001b[0m \u001b[1;31m#        print(df[0][i] != 'SOLVED',df[1][i].isdigit(),df[2][i].isdigit() or df[2][i] == '_')\u001b[0m\u001b[1;33m\u001b[0m\u001b[1;33m\u001b[0m\u001b[1;33m\u001b[0m\u001b[0m\n\u001b[1;32m---> 11\u001b[1;33m         \u001b[1;32mif\u001b[0m \u001b[0mdf\u001b[0m\u001b[1;33m[\u001b[0m\u001b[1;36m0\u001b[0m\u001b[1;33m]\u001b[0m\u001b[1;33m[\u001b[0m\u001b[0mi\u001b[0m\u001b[1;33m]\u001b[0m \u001b[1;33m!=\u001b[0m \u001b[1;34m'SOLVED'\u001b[0m \u001b[1;32mand\u001b[0m \u001b[1;33m(\u001b[0m\u001b[0mdf\u001b[0m\u001b[1;33m[\u001b[0m\u001b[1;36m1\u001b[0m\u001b[1;33m]\u001b[0m\u001b[1;33m[\u001b[0m\u001b[0mi\u001b[0m\u001b[1;33m]\u001b[0m\u001b[1;33m.\u001b[0m\u001b[0misdigit\u001b[0m\u001b[1;33m(\u001b[0m\u001b[1;33m)\u001b[0m \u001b[1;32mand\u001b[0m \u001b[1;33m(\u001b[0m\u001b[0mdf\u001b[0m\u001b[1;33m[\u001b[0m\u001b[1;36m2\u001b[0m\u001b[1;33m]\u001b[0m\u001b[1;33m[\u001b[0m\u001b[0mi\u001b[0m\u001b[1;33m]\u001b[0m\u001b[1;33m.\u001b[0m\u001b[0misdigit\u001b[0m\u001b[1;33m(\u001b[0m\u001b[1;33m)\u001b[0m \u001b[1;32mor\u001b[0m \u001b[0mdf\u001b[0m\u001b[1;33m[\u001b[0m\u001b[1;36m2\u001b[0m\u001b[1;33m]\u001b[0m\u001b[1;33m[\u001b[0m\u001b[0mi\u001b[0m\u001b[1;33m]\u001b[0m \u001b[1;33m==\u001b[0m \u001b[1;34m'_'\u001b[0m\u001b[1;33m)\u001b[0m\u001b[1;33m)\u001b[0m\u001b[1;33m:\u001b[0m\u001b[1;33m\u001b[0m\u001b[1;33m\u001b[0m\u001b[0m\n\u001b[0m\u001b[0;32m     12\u001b[0m \u001b[1;31m#            print('\\nSolution possible of type =',df[0][i])\u001b[0m\u001b[1;33m\u001b[0m\u001b[1;33m\u001b[0m\u001b[1;33m\u001b[0m\u001b[0m\n\u001b[0;32m     13\u001b[0m             \u001b[1;32mif\u001b[0m \u001b[0mdf\u001b[0m\u001b[1;33m[\u001b[0m\u001b[1;36m0\u001b[0m\u001b[1;33m]\u001b[0m\u001b[1;33m[\u001b[0m\u001b[0mi\u001b[0m\u001b[1;33m]\u001b[0m \u001b[1;33m==\u001b[0m \u001b[1;34m'VALUE'\u001b[0m\u001b[1;33m:\u001b[0m\u001b[1;33m\u001b[0m\u001b[1;33m\u001b[0m\u001b[0m\n",
      "\u001b[1;31mAttributeError\u001b[0m: 'int' object has no attribute 'isdigit'"
     ]
    }
   ],
   "source": [
    "df = pd.DataFrame(lst_arg)\n",
    "print(type(df[2][2]))\n",
    "print(df[2][2])\n",
    "k = 0\n",
    "z = 0\n",
    "while k < len(range(n)):\n",
    "#    print('\\n - Loop =',k,'of',len(range(n)))\n",
    "    for i in range(n):\n",
    "#        print('line = ',i,'is',df[0][i],df[1][i],df[2][i])\n",
    "#        print(df[0][i] != 'SOLVED',df[1][i].isdigit(),df[2][i].isdigit() or df[2][i] == '_')\n",
    "        if df[0][i] != 'SOLVED' and (df[1][i].isdigit() and (df[2][i].isdigit() or df[2][i] == '_')):\n",
    "#            print('\\nSolution possible of type =',df[0][i])\n",
    "            if df[0][i] == 'VALUE':\n",
    "                df[1][i] = df[1][i]\n",
    "            elif df[0][i] == 'ADD':\n",
    "                df[1][i] = int(df[1][i]) + int(df[2][i])\n",
    "            elif df[0][i] == 'SUB':\n",
    "                df[1][i] = int(df[1][i]) - int(df[2][i])\n",
    "            elif df[0][i] == 'MULT':\n",
    "                df[1][i] = int(df[1][i]) * int(df[2][i])\n",
    "            str(df[1][i])\n",
    "            str(df[2][i])\n",
    "            df[0][i] = 'SOLVED'\n",
    "            k +=1\n",
    "            \n",
    "#        print('Solved?',df[0][i],'. New k = ',k)\n",
    "        \n",
    "        if df[0][i] != 'SOLVED' and df[1][i][0] == '$':\n",
    "            #Check if and change the values where $ is found COLUMN 1 \n",
    "            if df[0][pd.to_numeric(df[1][i][1:])] == 'SOLVED':\n",
    "#                print('Position to search',int(df[1][i][1:]))\n",
    "                df[1][i] = df[1][int(df[1][i][1:])]\n",
    "        if df[0][i] != 'SOLVED' and df[2][i][0] == '$':\n",
    "            #Check if and change the values where $ is found COLUMN 2\n",
    "            if df[0][pd.to_numeric(df[2][i][1:])] == 'SOLVED':\n",
    "#                print('Position to search',int(df[2][i][1:]))\n",
    "                df[2][i] = df[1][int(df[2][i][1:])]  \n",
    "        print(df)\n",
    "        print(type(df[1][0]))\n",
    "        print(type(df[1][1]))\n",
    "        print(type(df[1][2]))\n",
    "        \n",
    "    # Write an action using print\n",
    "    #To debug: print(\"Debug messages...\", file=sys.stderr)\n",
    "for n in df[1]:\n",
    "    print(n)"
   ]
  },
  {
   "cell_type": "code",
   "execution_count": null,
   "metadata": {},
   "outputs": [],
   "source": []
  },
  {
   "cell_type": "code",
   "execution_count": null,
   "metadata": {},
   "outputs": [],
   "source": []
  }
 ],
 "metadata": {
  "kernelspec": {
   "display_name": "Python 3",
   "language": "python",
   "name": "python3"
  },
  "language_info": {
   "codemirror_mode": {
    "name": "ipython",
    "version": 3
   },
   "file_extension": ".py",
   "mimetype": "text/x-python",
   "name": "python",
   "nbconvert_exporter": "python",
   "pygments_lexer": "ipython3",
   "version": "3.7.3"
  }
 },
 "nbformat": 4,
 "nbformat_minor": 2
}
